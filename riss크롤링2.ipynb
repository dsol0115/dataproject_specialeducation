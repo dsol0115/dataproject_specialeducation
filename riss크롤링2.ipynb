{
 "cells": [
  {
   "cell_type": "code",
   "execution_count": 1,
   "metadata": {},
   "outputs": [],
   "source": [
    "from bs4 import BeautifulSoup\n",
    "import numpy as np\n",
    "import pandas as pd\n",
    "from selenium import webdriver\n",
    "import time\n",
    "\n",
    "riss_title = []\n",
    "\n",
    "driver = webdriver.Chrome(executable_path=r'C:\\Users\\yundasol\\Documents\\Python Scripts\\chromedriver.exe')\n",
    "driver.implicitly_wait(3)\n",
    "\n",
    "driver.get('http://www.riss.kr/search/Search.do?detailSearch=false&viewYn=OP&query=%ED%8A%B9%EC%88%98%EA%B5%90%EC%9C%A1&queryText=&strQuery=%ED%8A%B9%EC%88%98%EA%B5%90%EC%9C%A1&iStartCount=0&iGroupView=5&icate=all&colName=re_a_kor&exQuery=&pageScale=20&strSort=RANK&order=%2FDESC&onHanja=false&keywordOption=0&searchGubun=true&p_year1=&p_year2=&dorg_storage=&mat_type=&mat_subtype=&fulltext_kind=&t_gubun=&learning_type=&language_code=&ccl_code=&language=&inside_outside=&fric_yn=&image_yn=&regnm=&gubun=&kdc=&ttsUseYn=&resultSearch=false&listFlag=&h_groupByField=&orderBy=&ids=&titles=&taxonIds=&description_kos=&kind=')\n",
    " \n",
    "driver.implicitly_wait(3)\n",
    "\n",
    "##국내학술지\n",
    "\n",
    "con=0\n",
    "while(True):\n",
    "    \n",
    "    while(True):\n",
    "        html = driver.page_source\n",
    "        soup = BeautifulSoup(html, 'html.parser')\n",
    "        title_list = soup.find_all('p', 'txt')\n",
    "\n",
    "        for title in title_list:\n",
    "            titles = title.text\n",
    "            riss_title.append(titles)\n",
    "            \n",
    "        try:\n",
    "            driver.find_element_by_css_selector('.num strong+a').click()\n",
    "        except:\n",
    "            break\n",
    "        time.sleep(1)\n",
    "       \n",
    "    try:\n",
    "        if(con==0):\n",
    "            driver.find_element_by_css_selector('.passing > span:nth-child(3) > a').click()\n",
    "            con=1\n",
    "        else:\n",
    "            driver.find_element_by_css_selector('.passing > span:nth-child(4) > a').click()  \n",
    "    except:\n",
    "        break\n",
    "    time.sleep(1)\n",
    "\n",
    "    \n",
    "data = pd.DataFrame(riss_title)\n",
    "data.to_csv('risscrawl2.csv')"
   ]
  },
  {
   "cell_type": "code",
   "execution_count": null,
   "metadata": {},
   "outputs": [],
   "source": []
  }
 ],
 "metadata": {
  "kernelspec": {
   "display_name": "Python 3",
   "language": "python",
   "name": "python3"
  },
  "language_info": {
   "codemirror_mode": {
    "name": "ipython",
    "version": 3
   },
   "file_extension": ".py",
   "mimetype": "text/x-python",
   "name": "python",
   "nbconvert_exporter": "python",
   "pygments_lexer": "ipython3",
   "version": "3.7.3"
  }
 },
 "nbformat": 4,
 "nbformat_minor": 2
}
